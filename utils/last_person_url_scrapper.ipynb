{
 "cells": [
  {
   "cell_type": "code",
   "execution_count": 1,
   "id": "76e7d686",
   "metadata": {},
   "outputs": [],
   "source": [
    "from bs4 import BeautifulSoup\n",
    "from selenium import webdriver\n",
    "import pandas as pd\n",
    "import time\n",
    "from selenium.webdriver.firefox.options import Options as foptions\n",
    "from selenium.webdriver.edge.options import Options as eoptions\n",
    "from selenium.webdriver.support.ui import WebDriverWait\n",
    "from selenium.webdriver.support import expected_conditions as EC\n",
    "from selenium.webdriver.common.by import By\n",
    "from lxml import etree\n",
    "\n",
    "Foptions = foptions()\n",
    "# Foptions.headless = True\n",
    "\n",
    "Eoptions = eoptions()\n",
    "# Eoptions.headless = True\n",
    "\n",
    "\n",
    "\n",
    "\n"
   ]
  },
  {
   "cell_type": "code",
   "execution_count": 2,
   "id": "83f729f1",
   "metadata": {},
   "outputs": [
    {
     "name": "stdout",
     "output_type": "stream",
     "text": [
      "Bölüm ve program bilgileri tek bir sheet olarak 'unis_last.xlsx' dosyasına kaydedildi.\n"
     ]
    }
   ],
   "source": [
    "driver = webdriver.Edge(options=Eoptions)\n",
    "driver.get('https://yokatlas.yok.gov.tr/netler.php')\n",
    "driver.maximize_window()\n",
    "html = driver.page_source\n",
    "soup = BeautifulSoup(html,\"html.parser\")\n",
    "\n",
    "# Bölüm seçeneklerini al\n",
    "bolum_secenekleri = driver.find_elements(By.CSS_SELECTOR, '#bolum > option')\n",
    "secilen_bolumler = bolum_secenekleri[2:]  # 3. elementten sonuncuya kadar\n",
    "\n",
    "bolumler = []\n",
    "url_ler = []\n",
    "tip_ler = []  # Bölüm olduğunu belirtmek için\n",
    "\n",
    "# Bölüm bilgilerini listelerine ekle\n",
    "for bolum in secilen_bolumler:\n",
    "    bolumler.append(bolum.text)\n",
    "    url_ler.append('https://yokatlas.yok.gov.tr/netler-tablo.php?b='+str(bolum.get_attribute('value')))\n",
    "    tip_ler.append('Bölüm')\n",
    "\n",
    "# Program seçeneklerini al\n",
    "program_secenekleri = driver.find_elements(By.CSS_SELECTOR, '#program > option')\n",
    "secilen_programlar = program_secenekleri[1:]  # İlk elemanı (\"Seçiniz\") atlayarak devam et\n",
    "\n",
    "# Program bilgilerini aynı listelere ekle\n",
    "for program in secilen_programlar:\n",
    "    bolumler.append(program.text)  # İsim kolonuna program ismi\n",
    "    url_ler.append('https://yokatlas.yok.gov.tr/netler-tablo.php?p='+str(program.get_attribute('value')))  # URL'ye program value\n",
    "    tip_ler.append('Program')  # Program olduğunu belirtmek için\n",
    "\n",
    "# Tek bir DataFrame oluştur\n",
    "unis_df = pd.DataFrame({\n",
    "    'bolum': bolumler,  # Hem bölüm hem program isimlerini içerir\n",
    "    'url': url_ler,    # İlgili URL'leri içerir\n",
    "    'tip': tip_ler     # \"Bölüm\" veya \"Program\" olduğunu belirtir\n",
    "})\n",
    "\n",
    "# Excel dosyasına kaydet\n",
    "\n",
    "unis_df.to_excel('../data/unis_last.xlsx', index=False)\n",
    "print(\"Bölüm ve program bilgileri tek bir sheet olarak 'unis_last.xlsx' dosyasına kaydedildi.\")\n",
    "\n",
    "driver.quit()"
   ]
  }
 ],
 "metadata": {
  "kernelspec": {
   "display_name": "Python 3",
   "language": "python",
   "name": "python3"
  },
  "language_info": {
   "codemirror_mode": {
    "name": "ipython",
    "version": 3
   },
   "file_extension": ".py",
   "mimetype": "text/x-python",
   "name": "python",
   "nbconvert_exporter": "python",
   "pygments_lexer": "ipython3",
   "version": "3.11.9"
  }
 },
 "nbformat": 4,
 "nbformat_minor": 5
}
